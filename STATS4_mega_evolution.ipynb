{
 "cells": [
  {
   "cell_type": "code",
   "execution_count": 15,
   "metadata": {},
   "outputs": [],
   "source": [
    "## Importing the CSV and creation of a dataframe \"poke_df\"\n",
    "import pandas as pd\n",
    "from matplotlib import pyplot as plt\n",
    "import seaborn as sns\n",
    "from pokedata_imports import PokeTypeInfo\n",
    "\n",
    "PATH_POKEDEX_CSV = \"./pokedex/pokedex.csv\"\n",
    "poke_df = pd.read_csv(PATH_POKEDEX_CSV)\n",
    "poke_df = poke_df.drop(\"Unnamed: 0\", axis=1)"
   ]
  },
  {
   "cell_type": "code",
   "execution_count": 16,
   "metadata": {},
   "outputs": [],
   "source": [
    "## Mega Evolution is a special evolutionary method introduced in Pokémon X and Y, Generation VI of the Pokémon series. \n",
    "## It allows certain Pokémon to temporarily evolve into more powerful forms during battles. \n",
    "## Mega Evolution is triggered by holding a specific item called a \"Mega Stone\" and using a move called \"Mega Evolution\" during battle.\n",
    "\n",
    "#1 Listing out all Pokemon that can mega evolve, as their Pokedex have the same number as its original form\n",
    "poke_df_mega = poke_df[poke_df[\"name\"].str.startswith(\"Mega\")]\n"
   ]
  },
  {
   "cell_type": "code",
   "execution_count": 17,
   "metadata": {},
   "outputs": [
    {
     "data": {
      "text/plain": [
       "['Mega Charizard X', 'Mega Charizard Y', 'Mega Mewtwo X', 'Mega Mewtwo Y']"
      ]
     },
     "execution_count": 17,
     "metadata": {},
     "output_type": "execute_result"
    }
   ],
   "source": [
    "#2 Some Pokemon can have two mega evolutions\n",
    "poke_df_mega.groupby(\"pokedex_number\").filter(lambda x: len(x) > 1)[\"name\"].to_list()"
   ]
  },
  {
   "cell_type": "code",
   "execution_count": null,
   "metadata": {},
   "outputs": [],
   "source": []
  }
 ],
 "metadata": {
  "kernelspec": {
   "display_name": "Python 3",
   "language": "python",
   "name": "python3"
  },
  "language_info": {
   "codemirror_mode": {
    "name": "ipython",
    "version": 3
   },
   "file_extension": ".py",
   "mimetype": "text/x-python",
   "name": "python",
   "nbconvert_exporter": "python",
   "pygments_lexer": "ipython3",
   "version": "3.10.12"
  }
 },
 "nbformat": 4,
 "nbformat_minor": 2
}
